{
 "cells": [
  {
   "cell_type": "markdown",
   "metadata": {},
   "source": [
    "## Libraries"
   ]
  },
  {
   "cell_type": "code",
   "execution_count": 108,
   "metadata": {},
   "outputs": [],
   "source": [
    "import pandas as pd\n",
    "import csv\n",
    "import nltk\n",
    "import re\n",
    "import numpy as np\n",
    "from nltk.stem import WordNetLemmatizer\n",
    "wordnet_lemmatizer = WordNetLemmatizer()\n",
    "from sklearn.feature_extraction.text import TfidfVectorizer,CountVectorizer\n",
    "from sklearn import model_selection\n",
    "from sklearn.linear_model import LogisticRegression\n",
    "from sklearn.tree import DecisionTreeClassifier\n",
    "from sklearn.neighbors import KNeighborsClassifier\n",
    "from sklearn.naive_bayes import MultinomialNB\n",
    "from sklearn.svm import SVC\n",
    "from sklearn.ensemble import RandomForestClassifier\n",
    "from sklearn.model_selection import GridSearchCV\n",
    "import warnings\n",
    "warnings.filterwarnings('ignore')\n",
    "import matplotlib.pyplot as plt\n",
    "from sklearn.metrics import accuracy_score,f1_score\n"
   ]
  },
  {
   "cell_type": "markdown",
   "metadata": {},
   "source": [
    "## Preprocessing"
   ]
  },
  {
   "cell_type": "code",
   "execution_count": 93,
   "metadata": {},
   "outputs": [],
   "source": [
    "def read_files_utf8(path):\n",
    "    file = open(path, encoding=\"utf8\")\n",
    "    with file:\n",
    "        reader = csv.reader(file, delimiter=\"\\t\")\n",
    "        data = list(reader)\n",
    "    return data\n",
    "\n",
    "def append_data(data):\n",
    "    list_data = []\n",
    "    for item in data:\n",
    "        list_data.append((item[0],item[1]))\n",
    "    return list_data\n",
    "\n",
    "def get_tweets(data):\n",
    "    tweets = []\n",
    "    for item in data:\n",
    "        tweets.append(item[1])\n",
    "    return tweets\n",
    "\n",
    "def remove_punctuation(sentence):\n",
    "    new_sentence_tokens = []\n",
    "    for token in sentence:\n",
    "        new_token = re.sub(r'[^\\w\\s]', '', token)\n",
    "        if new_token != '':\n",
    "            new_sentence_tokens.append(new_token)\n",
    "    return new_sentence_tokens\n",
    "\n",
    "def remove_URL(item):\n",
    "    return re.sub(r\"http\\S+\", \"\", item)\n",
    "\n",
    "def preprocess_data(data):\n",
    "    lemmatizer = WordNetLemmatizer()\n",
    "    tokenized_data = []\n",
    "    for item in data:\n",
    "        item = remove_URL(item)\n",
    "        tokens = nltk.word_tokenize(item.lower())\n",
    "        tokens = remove_punctuation(tokens)\n",
    "        lemmatized_output = ' '.join([lemmatizer.lemmatize(token) for token in tokens])\n",
    "        tokenized_data.append(lemmatized_output)\n",
    "    return tokenized_data\n",
    "\n",
    "# There are some empty tweets with garbage I needed to remove to match the number of tweets with labels\n",
    "def remove_unnecessary_tweets(tweets, labels):\n",
    "    clean_labels = []\n",
    "    tweets_ids = [i[0] for i in tweets]\n",
    "    for label in labels:\n",
    "        if label[0] in tweets_ids:\n",
    "            clean_labels.append(label[1])\n",
    "    return clean_labels\n",
    "\n",
    "# Getting training data\n",
    "path = 'train-tweets.txt'\n",
    "train_data = read_files_utf8(path)\n",
    "path = 'train-labels.txt'\n",
    "train_labels = read_files_utf8(path)\n",
    "\n",
    "# Getting development data\n",
    "path = 'eval-tweets.txt'\n",
    "eval_data = read_files_utf8(path)\n",
    "path = 'eval-labels.txt'\n",
    "eval_labels = read_files_utf8(path)\n",
    "\n",
    "# Getting testing data\n",
    "path = 'test-tweets.txt'\n",
    "test_data = read_files_utf8(path)\n",
    "\n",
    "\n",
    "train_tweets = append_data(train_data)\n",
    "train_labels = append_data(train_labels)\n",
    "train_labels = remove_unnecessary_tweets(train_tweets, train_labels)\n",
    "train_tweets = get_tweets(train_tweets)\n",
    "\n",
    "eval_tweets = append_data(eval_data)\n",
    "eval_labels = append_data(eval_labels)\n",
    "eval_labels = remove_unnecessary_tweets(eval_tweets, eval_labels)\n",
    "eval_tweets = get_tweets(eval_tweets)\n",
    "\n",
    "test_tweets = append_data(test_data)\n",
    "test_tweets = get_tweets(test_tweets)\n",
    "\n",
    "train_tweets = preprocess_data(train_tweets)\n",
    "eval_tweets = preprocess_data(eval_tweets)\n",
    "test_tweets = preprocess_data(test_tweets)"
   ]
  },
  {
   "cell_type": "code",
   "execution_count": 94,
   "metadata": {},
   "outputs": [],
   "source": [
    "def algorithm_comparison(X ,y):\n",
    "    print(\"=\"*100)\n",
    "    print('Algorithms Comparison')\n",
    "    print(\"=\"*100)\n",
    "    seed = 7\n",
    "    models = []\n",
    "    models.append(('LR', LogisticRegression()))\n",
    "    models.append(('KNN', KNeighborsClassifier()))\n",
    "    models.append(('DT', DecisionTreeClassifier()))\n",
    "    models.append(('RF', RandomForestClassifier()))\n",
    "    models.append(('NB', MultinomialNB()))\n",
    "    models.append(('SVM', SVC()))\n",
    "    values = []\n",
    "    names = []\n",
    "    scoring = 'accuracy'\n",
    "    for name, model in models:\n",
    "        kfold = model_selection.KFold(n_splits=10, random_state=seed)\n",
    "        cv_results = model_selection.cross_val_score(model, X, y, cv=kfold, scoring=scoring)\n",
    "        values.append(cv_results.mean())\n",
    "        names.append(name)\n",
    "        results = \"%s: %f (%f)\" % (name, cv_results.mean(), cv_results.std())\n",
    "        print(results)\n",
    "   \n",
    "    plt.figure(figsize=(20, 5))\n",
    "    plt.subplot(131)\n",
    "    plt.bar(names, values)\n",
    "    plt.subplot(133)\n",
    "    plt.plot(names, values)\n",
    "    plt.suptitle('Accuracy Comparison')\n",
    "    plt.show()"
   ]
  },
  {
   "cell_type": "markdown",
   "metadata": {},
   "source": [
    "## Modeling selection with word counts"
   ]
  },
  {
   "cell_type": "code",
   "execution_count": 99,
   "metadata": {},
   "outputs": [
    {
     "name": "stdout",
     "output_type": "stream",
     "text": [
      "====================================================================================================\n",
      "Algorithms Comparison\n",
      "====================================================================================================\n",
      "LR: 0.594429 (0.013086)\n",
      "KNN: 0.449328 (0.035867)\n",
      "DT: 0.518516 (0.021513)\n",
      "RF: 0.591158 (0.016749)\n",
      "NB: 0.588731 (0.011908)\n",
      "SVM: 0.583435 (0.012309)\n"
     ]
    },
    {
     "data": {
      "image/png": "[encoded data removed]",
      "text/plain": [
       "<Figure size 1440x360 with 2 Axes>"
      ]
     },
     "metadata": {
      "needs_background": "light"
     },
     "output_type": "display_data"
    }
   ],
   "source": [
    "vectorizer = CountVectorizer()\n",
    "vector_eval = vectorizer.fit_transform(eval_tweets)\n",
    "algorithm_comparison(vector_eval, eval_labels)"
   ]
  },
  {
   "cell_type": "markdown",
   "metadata": {},
   "source": [
    "## Modeling selection with word frequencies"
   ]
  },
  {
   "cell_type": "code",
   "execution_count": 102,
   "metadata": {},
   "outputs": [
    {
     "name": "stdout",
     "output_type": "stream",
     "text": [
      "====================================================================================================\n",
      "Algorithms Comparison\n",
      "====================================================================================================\n",
      "LR: 0.598091 (0.013636)\n",
      "KNN: 0.546610 (0.023662)\n",
      "DT: 0.508948 (0.017107)\n",
      "RF: 0.581598 (0.012484)\n",
      "NB: 0.550064 (0.012799)\n",
      "SVM: 0.584046 (0.012314)\n"
     ]
    },
    {
     "data": {
      "image/png": "[encoded data removed]",
      "text/plain": [
       "<Figure size 1440x360 with 2 Axes>"
      ]
     },
     "metadata": {
      "needs_background": "light"
     },
     "output_type": "display_data"
    }
   ],
   "source": [
    "vectorizer = TfidfVectorizer()\n",
    "vector_eval = vectorizer.fit_transform(eval_tweets)\n",
    "algorithm_comparison(vector_eval, eval_labels)"
   ]
  },
  {
   "cell_type": "markdown",
   "metadata": {},
   "source": [
    "## Training Model"
   ]
  },
  {
   "cell_type": "code",
   "execution_count": 121,
   "metadata": {},
   "outputs": [
    {
     "name": "stdout",
     "output_type": "stream",
     "text": [
      "Best Parameters:  {'C': 1.0, 'penalty': 'l2'}\n",
      "Best Score:  0.6039875438462\n",
      "Eval accuracy:  0.8247863247863247\n",
      "Train accuracy:  0.8031379385487034\n"
     ]
    }
   ],
   "source": [
    "#Using best model for this task and tuning it\n",
    "\n",
    "vectorizer = TfidfVectorizer()\n",
    "vector_train = vectorizer.fit_transform(train_tweets)\n",
    "vector_eval = vectorizer.transform(eval_tweets)\n",
    "vector_test = vectorizer.transform(test_tweets)\n",
    "\n",
    "# Training and scoring for training set\n",
    "clf = LogisticRegression()\n",
    "parameters = {\"C\":np.logspace(-3,3,7), \"penalty\":[\"l1\",\"l2\"]}\n",
    "clf_grid = GridSearchCV(clf, parameters)\n",
    "clf_grid.fit(vector_eval,eval_labels )\n",
    "y_pred = clf_grid.predict(vector_eval)\n",
    "print(\"Best Parameters: \",clf_grid.best_params_)\n",
    "print(\"Best Score: \",clf_grid.best_score_)\n",
    "print('Eval accuracy: ',accuracy_score(eval_labels, y_pred))\n",
    "\n",
    "clf = LogisticRegression()\n",
    "clf.set_params(**clf_grid.best_params_)\n",
    "clf.fit(vector_train, train_labels)\n",
    "y_pred = clf.predict(vector_train)\n",
    "print('Train accuracy: ',accuracy_score(train_labels, y_pred))\n",
    "\n",
    "# Predicting for test set ...\n",
    "y_test_pred = clf.predict(vector_test)"
   ]
  }
 ],
 "metadata": {
  "kernelspec": {
   "display_name": "Python 3",
   "language": "python",
   "name": "python3"
  },
  "language_info": {
   "codemirror_mode": {
    "name": "ipython",
    "version": 3
   },
   "file_extension": ".py",
   "mimetype": "text/x-python",
   "name": "python",
   "nbconvert_exporter": "python",
   "pygments_lexer": "ipython3",
   "version": "3.7.4"
  }
 },
 "nbformat": 4,
 "nbformat_minor": 4
}
